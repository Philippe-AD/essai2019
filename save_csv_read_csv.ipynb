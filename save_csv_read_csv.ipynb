{
  "nbformat": 4,
  "nbformat_minor": 0,
  "metadata": {
    "colab": {
      "name": "save_csv_read_csv.ipynb",
      "provenance": [],
      "authorship_tag": "ABX9TyMlpiMO7/XQ7w1aB2KlxnWV",
      "include_colab_link": true
    },
    "kernelspec": {
      "name": "python3",
      "display_name": "Python 3"
    }
  },
  "cells": [
    {
      "cell_type": "markdown",
      "metadata": {
        "id": "view-in-github",
        "colab_type": "text"
      },
      "source": [
        "<a href=\"https://colab.research.google.com/github/Philippe-AD/essai2019/blob/master/save_csv_read_csv.ipynb\" target=\"_parent\"><img src=\"https://colab.research.google.com/assets/colab-badge.svg\" alt=\"Open In Colab\"/></a>"
      ]
    },
    {
      "cell_type": "code",
      "metadata": {
        "id": "Np8s0sHFrM9S",
        "colab_type": "code",
        "colab": {
          "base_uri": "https://localhost:8080/",
          "height": 252
        },
        "outputId": "5bc841c9-ee82-4e41-897e-ef84564235b4"
      },
      "source": [
        "import pandas as pd\n",
        "import numpy as np\n",
        "d = {'col1': [1, 4, 3, 4, 5], 'col2': [4, 5, 6, 7, 8], 'col3': [7, 8, 9, 0, 1]}\n",
        "df = pd.DataFrame(data=d)\n",
        "print(\"Original DataFrame\")\n",
        "print(df)\n",
        "\n",
        "print('Data from new_file.csv file:')\n",
        "df.to_csv('new_file.csv', sep='\\t', index=False)\n",
        "\n",
        "new_df = pd.read_csv('new_file.csv')\n",
        "print(new_df)"
      ],
      "execution_count": 2,
      "outputs": [
        {
          "output_type": "stream",
          "text": [
            "Original DataFrame\n",
            "   col1  col2  col3\n",
            "0     1     4     7\n",
            "1     4     5     8\n",
            "2     3     6     9\n",
            "3     4     7     0\n",
            "4     5     8     1\n",
            "Data from new_file.csv file:\n",
            "  col1\\tcol2\\tcol3\n",
            "0          1\\t4\\t7\n",
            "1          4\\t5\\t8\n",
            "2          3\\t6\\t9\n",
            "3          4\\t7\\t0\n",
            "4          5\\t8\\t1\n"
          ],
          "name": "stdout"
        }
      ]
    },
    {
      "cell_type": "markdown",
      "metadata": {
        "id": "jP8xQyS9sq0d",
        "colab_type": "text"
      },
      "source": [
        "\n",
        "\n",
        "```\n",
        "# Ce texte est au format code\n",
        "il fait chaud ? oui\n",
        "il fait chaud ? non\n",
        "\n",
        "```\n",
        "\n"
      ]
    },
    {
      "cell_type": "code",
      "metadata": {
        "id": "H7RXCPgDzgYI",
        "colab_type": "code",
        "colab": {
          "base_uri": "https://localhost:8080/",
          "height": 134
        },
        "outputId": "7d4775d3-1b91-4512-cab3-3707cf07e378"
      },
      "source": [
        "!pip install arrow\n",
        "import arrow\n",
        "\n",
        "utc = arrow.utcnow()\n",
        "print(utc)\n",
        "print(utc.to('local'))\n"
      ],
      "execution_count": 7,
      "outputs": [
        {
          "output_type": "stream",
          "text": [
            "Requirement already satisfied: arrow in /usr/local/lib/python3.6/dist-packages (0.15.5)\n",
            "Requirement already satisfied: python-dateutil in /usr/local/lib/python3.6/dist-packages (from arrow) (2.8.1)\n",
            "Requirement already satisfied: six>=1.5 in /usr/local/lib/python3.6/dist-packages (from python-dateutil->arrow) (1.12.0)\n",
            "2020-04-28T12:44:16.207508+00:00\n",
            "2020-04-28T12:44:16.207508+00:00\n",
            "2020-04-28T12:44:16.207858+00:00\n",
            "2020-04-28T12:44:16.207858+00:00\n"
          ],
          "name": "stdout"
        }
      ]
    },
    {
      "cell_type": "code",
      "metadata": {
        "id": "qzm5ufND0eJd",
        "colab_type": "code",
        "colab": {
          "base_uri": "https://localhost:8080/",
          "height": 185
        },
        "outputId": "546376f9-1cef-45d1-c5e6-e2c925db86ed"
      },
      "source": [
        "now = arrow.now()\n",
        "print(now)\n",
        "print(now.to('UTC'))\n",
        "\n",
        "utc = arrow.utcnow()\n",
        "\n",
        "print(utc.to('US/Pacific').format('HH:mm:ss'))\n",
        "print(utc.to('Europe/Bratislava').format('HH:mm:ss'))\n",
        "print(utc.to('Europe/Moscow').format('HH:mm:ss'))\n",
        "\n",
        "print(now.shift(hours=5).time())\n",
        "print(now.shift(days=5).date())\n",
        "print(now.shift(years=-1).date())\n",
        "\n",
        "d1 = now.shift(minutes=-15).humanize()\n",
        "print(d1)\n",
        "\n",
        "d2 = now.shift(hours=5).humanize()\n",
        "print(d2)"
      ],
      "execution_count": 12,
      "outputs": [
        {
          "output_type": "stream",
          "text": [
            "2020-04-28T12:48:37.017690+00:00\n",
            "2020-04-28T12:48:37.017690+00:00\n",
            "05:48:37\n",
            "14:48:37\n",
            "15:48:37\n",
            "17:48:37.017690\n",
            "2020-05-03\n",
            "2019-04-28\n",
            "15 minutes ago\n",
            "in 5 hours\n"
          ],
          "name": "stdout"
        }
      ]
    },
    {
      "cell_type": "code",
      "metadata": {
        "id": "18fhsIa4-rUV",
        "colab_type": "code",
        "colab": {
          "base_uri": "https://localhost:8080/",
          "height": 84
        },
        "outputId": "8141bffc-dcd0-4463-e0a5-908949c6f1cd"
      },
      "source": [
        "!pip install serial\n",
        "import serial\n",
        "import time"
      ],
      "execution_count": 3,
      "outputs": [
        {
          "output_type": "stream",
          "text": [
            "Requirement already satisfied: serial in /usr/local/lib/python3.6/dist-packages (0.0.97)\n",
            "Requirement already satisfied: pyyaml>=3.13 in /usr/local/lib/python3.6/dist-packages (from serial) (3.13)\n",
            "Requirement already satisfied: iso8601>=0.1.12 in /usr/local/lib/python3.6/dist-packages (from serial) (0.1.12)\n",
            "Requirement already satisfied: future>=0.17.1 in /usr/local/lib/python3.6/dist-packages (from serial) (0.18.2)\n"
          ],
          "name": "stdout"
        }
      ]
    },
    {
      "cell_type": "code",
      "metadata": {
        "id": "0vLBN7oN_ISQ",
        "colab_type": "code",
        "colab": {}
      },
      "source": [
        "import serial\n",
        "import time\n",
        "# set up the serial line\n",
        "ser = serial.Serial('COM4', 115200)  \n",
        "time.sleep(2)"
      ],
      "execution_count": 0,
      "outputs": []
    },
    {
      "cell_type": "code",
      "metadata": {
        "id": "MU_J_jGS8PnE",
        "colab_type": "code",
        "colab": {}
      },
      "source": [
        "import numpy as np\n",
        "import sys \n",
        "\n",
        "# X = (hours studying, hours sleeping), y = score on test\n",
        "xAll = np.array(([2, 9], [1, 5], [3, 6], [5, 10]), dtype=float) # input data\n",
        "y = np.array(([92], [86], [89]), dtype=float) # output\n",
        "\n",
        "# scale units\n",
        "xAll = xAll/np.amax(xAll, axis=0) # scaling input data\n",
        "y = y/100 # scaling output data (max test score is 100)\n",
        "\n",
        "# split data\n",
        "X = np.split(xAll, [3])[0] # training data\n",
        "xPredicted = np.split(xAll, [3])[1] # testing data\n",
        "\n",
        "class Neural_Network(object):\n",
        "  def __init__(self):\n",
        "  #parameters\n",
        "    self.inputSize = 2\n",
        "    self.outputSize = 1\n",
        "    self.hiddenSize = 3\n",
        "\n",
        "  #weights\n",
        "    self.W1 = np.random.randn(self.inputSize, self.hiddenSize) # (3x2) weight matrix from input to hidden layer\n",
        "    self.W2 = np.random.randn(self.hiddenSize, self.outputSize) # (3x1) weight matrix from hidden to output layer\n",
        "\n",
        "  def forward(self, X):\n",
        "    #forward propagation through our network\n",
        "    self.z = np.dot(X, self.W1) # dot product of X (input) and first set of 3x2 weights\n",
        "    self.z2 = self.sigmoid(self.z) # activation function\n",
        "    self.z3 = np.dot(self.z2, self.W2) # dot product of hidden layer (z2) and second set of 3x1 weights\n",
        "    o = self.sigmoid(self.z3) # final activation function\n",
        "    return o\n",
        "\n",
        "  def sigmoid(self, s):\n",
        "    # activation function\n",
        "    return 1/(1+np.exp(-s))\n",
        "\n",
        "  def sigmoidPrime(self, s):\n",
        "    #derivative of sigmoid\n",
        "    return s * (1 - s)\n",
        "\n",
        "  def backward(self, X, y, o):\n",
        "    # backward propagate through the network\n",
        "    self.o_error = y - o # error in output\n",
        "    self.o_delta = self.o_error*self.sigmoidPrime(o) # applying derivative of sigmoid to error\n",
        "\n",
        "    self.z2_error = self.o_delta.dot(self.W2.T) # z2 error: how much our hidden layer weights contributed to output error\n",
        "    self.z2_delta = self.z2_error*self.sigmoidPrime(self.z2) # applying derivative of sigmoid to z2 error\n",
        "\n",
        "    self.W1 += X.T.dot(self.z2_delta) # adjusting first set (input --> hidden) weights\n",
        "    self.W2 += self.z2.T.dot(self.o_delta) # adjusting second set (hidden --> output) weights\n",
        "\n",
        "  def train(self, X, y):\n",
        "    o = self.forward(X)\n",
        "    self.backward(X, y, o)\n",
        "\n",
        "  def saveWeights(self):\n",
        "    np.savetxt(\"w1.txt\", self.W1, fmt=\"%s\")\n",
        "    np.savetxt(\"w2.txt\", self.W2, fmt=\"%s\")\n",
        "\n",
        "  def predict(self):\n",
        "    print(\"Predicted data based on trained weights: \");\n",
        "    print(\"Input (scaled): \\n\" + str(xPredicted));\n",
        "    print(\"Output: \\n\" + str(self.forward(xPredicted)));\n",
        "\n",
        "NN = Neural_Network()\n",
        "for i in range(1000): # trains the NN 1,000 times\n",
        "  print(\"# \" + str(i) + \"\\n\")\n",
        "  print(\"Input (scaled): \\n\" + str(X))\n",
        "  print(\"Actual Output: \\n\" + str(y))\n",
        "  print(\"Predicted Output: \\n\" + str(NN.forward(X)))\n",
        "  print(\"Loss: \\n\" + str(np.mean(np.square(y - NN.forward(X))))) # mean sum squared loss\n",
        "  print(\"\\n\")\n",
        "  NN.train(X, y)\n",
        "\n",
        "NN.saveWeights()\n",
        "NN.predict()"
      ],
      "execution_count": 0,
      "outputs": []
    }
  ]
}