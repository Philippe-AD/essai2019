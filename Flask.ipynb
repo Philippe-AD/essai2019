{
  "nbformat": 4,
  "nbformat_minor": 0,
  "metadata": {
    "colab": {
      "name": "Flask.ipynb",
      "provenance": [],
      "authorship_tag": "ABX9TyMwX759AiwtDxqxdVOr9qym",
      "include_colab_link": true
    },
    "kernelspec": {
      "name": "python3",
      "display_name": "Python 3"
    }
  },
  "cells": [
    {
      "cell_type": "markdown",
      "metadata": {
        "id": "view-in-github",
        "colab_type": "text"
      },
      "source": [
        "<a href=\"https://colab.research.google.com/github/Philippe-AD/essai2019/blob/master/Flask.ipynb\" target=\"_parent\"><img src=\"https://colab.research.google.com/assets/colab-badge.svg\" alt=\"Open In Colab\"/></a>"
      ]
    },
    {
      "cell_type": "markdown",
      "metadata": {
        "id": "hPeD5uWRtdRc",
        "colab_type": "text"
      },
      "source": [
        "\n",
        "\n",
        "---\n",
        "\n"
      ]
    },
    {
      "cell_type": "code",
      "metadata": {
        "id": "utEB9z7GtLis",
        "colab_type": "code",
        "colab": {
          "base_uri": "https://localhost:8080/",
          "height": 34
        },
        "outputId": "9a334f03-2395-49a9-ec63-4e022a9d578b"
      },
      "source": [
        "%%writefile run.py\n",
        "from flask import Flask\n",
        "\n",
        "app = Flask(__name__)\n",
        "\n",
        "@app.route(\"/\")\n",
        "def demo():\n",
        "    return \"Voici quelques exemples.\""
      ],
      "execution_count": null,
      "outputs": [
        {
          "output_type": "stream",
          "text": [
            "Overwriting run.py\n"
          ],
          "name": "stdout"
        }
      ]
    },
    {
      "cell_type": "code",
      "metadata": {
        "id": "gaNDekFUtQpo",
        "colab_type": "code",
        "colab": {}
      },
      "source": [
        "import subprocess as sp\n",
        "\n",
        "# 启动子进程执行 Flask app\n",
        "server = sp.Popen(\"FLASK_APP=run.py flask run\", shell=True)\n"
      ],
      "execution_count": null,
      "outputs": []
    },
    {
      "cell_type": "code",
      "metadata": {
        "id": "6MyM8CX0tUN1",
        "colab_type": "code",
        "colab": {
          "base_uri": "https://localhost:8080/",
          "height": 34
        },
        "outputId": "d5a6ca81-8691-4734-fd76-3d23a5801e65"
      },
      "source": [
        "import requests\n",
        "\n",
        "requests.get(url=\"http://127.0.0.1:5000\").content"
      ],
      "execution_count": null,
      "outputs": [
        {
          "output_type": "execute_result",
          "data": {
            "text/plain": [
              "b'Hello, word!'"
            ]
          },
          "metadata": {
            "tags": []
          },
          "execution_count": 35
        }
      ]
    },
    {
      "cell_type": "code",
      "metadata": {
        "id": "nGOoqt4GtXS0",
        "colab_type": "code",
        "colab": {}
      },
      "source": [
        "server.terminate()"
      ],
      "execution_count": null,
      "outputs": []
    },
    {
      "cell_type": "markdown",
      "metadata": {
        "id": "oxzhTcN_k6fo",
        "colab_type": "text"
      },
      "source": [
        "\n",
        "\n",
        "---\n",
        "\n"
      ]
    },
    {
      "cell_type": "code",
      "metadata": {
        "id": "x-iqcZ3Sk89q",
        "colab_type": "code",
        "colab": {
          "base_uri": "https://localhost:8080/",
          "height": 54
        },
        "outputId": "ab9ceca5-3c67-448a-a3a6-1b88f9842f8a"
      },
      "source": [
        "import requests\n",
        "\n",
        "url = \"https://py-equatorial-potassium.glitch.me/api/v1/jobs/datascience?id=81953194&country=suisse&dateTime=22/Jul/2020 13:10:58&cleanContent=CLEAN\"\n",
        "\n",
        "payload = {}\n",
        "headers= {}\n",
        "\n",
        "response = requests.request(\"GET\", url, headers=headers, data = payload)\n",
        "\n",
        "print(response.text.encode('utf8'))"
      ],
      "execution_count": 9,
      "outputs": [
        {
          "output_type": "stream",
          "text": [
            "b'<!DOCTYPE HTML PUBLIC \"-//W3C//DTD HTML 3.2 Final//EN\">\\n<title>500 Internal Server Error</title>\\n<h1>Internal Server Error</h1>\\n<p>The server encountered an internal error and was unable to complete your request. Either the server is overloaded or there is an error in the application.</p>\\n'\n"
          ],
          "name": "stdout"
        }
      ]
    },
    {
      "cell_type": "code",
      "metadata": {
        "id": "wkZBtbIkyOcL",
        "colab_type": "code",
        "colab": {
          "base_uri": "https://localhost:8080/",
          "height": 54
        },
        "outputId": "1673a77b-b157-42dc-c2e3-4cb3c144695e"
      },
      "source": [
        "#intent.py\n",
        "\n",
        "import requests\n",
        "import json\n",
        "API_ENDPOINT = 'https://py-equatorial-potassium.glitch.me/api/v1/jobs/datascience'\n",
        "ACCESS_TOKEN = 'XXXXXXXXXXXXXXX'\n",
        "\n",
        "headers = {'authorization': 'Bearer ' + ACCESS_TOKEN}\n",
        "\n",
        "# Send the text\n",
        "text = \"I need a 30-minute appointment for a haircut tomorrow at 7 pm\"\n",
        "text = \"J'ai besoin d'un rendez-vous de 30 minutes pour une coupe de cheveux demain à 19 heures\"\n",
        "resp = requests.get('https://py-equatorial-potassium.glitch.me/api/v1/jobs/datascience?&q=(%s)' % text, headers = headers)\n",
        "\n",
        "#Get the text\n",
        "data =(resp.content)\n",
        "print(data)"
      ],
      "execution_count": 10,
      "outputs": [
        {
          "output_type": "stream",
          "text": [
            "b'<!-- This is a jinja2 -->\\n<!-- served from your routes in server.py -->\\n\\n<!DOCTYPE html>\\n<html>\\n  <head>\\n    <title>Welcome to Glitch!</title>\\n    <meta name=\"description\" content=\"A cool thing made with Glitch\">\\n    <link id=\"favicon\" rel=\"icon\" href=\"https://glitch.com/edit/favicon-app.ico\" type=\"image/x-icon\">\\n    <meta charset=\"utf-8\">\\n    <meta http-equiv=\"X-UA-Compatible\" content=\"IE=edge\">\\n    <meta name=\"viewport\" content=\"width=device-width, initial-scale=1\">\\n    <link rel=\"stylesheet\" href=\"/static/style.css\">\\n  </head>\\n  <body>\\n    <header>\\n      <h2 id=\"user_name\">(J&#39;AI BESOIN D&#39;UN RENDEZ-VOUS DE 30 MINUTES POUR UNE COUPE DE CHEVEUX DEMAIN \\xc3\\x80 19 HEURES)</h2>\\n      <h3 id=\"resultat\">xxx</h3>\\n      <h1>\\n        A Dream of the Future\\n      </h1>\\n    </header>\\n\\n    <main>\\n      <p class=\"bold\">Oh hi,</p>\\n      <p>Tell me your hopes and dreams:</p>\\n      <form>\\n        <input type=\"text\" maxlength=\"100\" placeholder=\"Dreams!\">\\n        <button type=\"submit\">Submit</button>\\n      </form>\\n      <section class=\"dreams\">\\n        <ul id=\"dreams\">\\n        </ul>\\n      </section>\\n    </main>\\n\\n    <footer>\\n      <a href=\"https://glitch.com/edit/#!/remix/python3\">\\n        Remix this in Glitch\\n      </a>\\n    </footer>\\n\\n    <!-- Your web-app is https, so your scripts need to be too -->\\n    <script src=\"https://code.jquery.com/jquery-2.2.1.min.js\"\\n            integrity=\"sha256-gvQgAFzTH6trSrAWoH1iPo9Xc96QxSZ3feW6kem+O00=\"\\n            crossorigin=\"anonymous\"></script>\\n    <script src=\"/static//client.js\"></script>\\n\\n  </body>\\n</html>'\n"
          ],
          "name": "stdout"
        }
      ]
    },
    {
      "cell_type": "code",
      "metadata": {
        "id": "UXcffm3awzAh",
        "colab_type": "code",
        "colab": {
          "base_uri": "https://localhost:8080/",
          "height": 70
        },
        "outputId": "8496fb3d-118f-4050-f6b7-b3640190e016"
      },
      "source": [
        "import requests\n",
        "import json\n",
        "\n",
        "\n",
        "# Send the text\n",
        "text = \"I need a 30-minute appointment for a haircut tomorrow at 7 pm\"\n",
        "text = \"J'ai besoin d'un rendez-vous de 30 minutes pour une coupe de cheveux demain à 19 heures\"\n",
        "\n",
        "resp = requests.get('https://py-sixth-fail.glitch.me/message?&q=(%s)' % text)\n",
        "print(resp)\n",
        "#Get the text\n",
        "data = (resp.content)\n",
        "print(data)"
      ],
      "execution_count": 11,
      "outputs": [
        {
          "output_type": "stream",
          "text": [
            "<Response [500]>\n",
            "b'<!DOCTYPE HTML PUBLIC \"-//W3C//DTD HTML 4.01 Transitional//EN\"\\n  \"http://www.w3.org/TR/html4/loose.dtd\">\\n<html>\\n  <head>\\n    <title>NameError: global name \\'request\\' is not defined // Werkzeug Debugger</title>\\n    <link rel=\"stylesheet\" href=\"?__debugger__=yes&amp;cmd=resource&amp;f=style.css\"\\n        type=\"text/css\">\\n    <!-- We need to make sure this has a favicon so that the debugger does\\n         not by accident trigger a request to /favicon.ico which might\\n         change the application state. -->\\n    <link rel=\"shortcut icon\"\\n        href=\"?__debugger__=yes&amp;cmd=resource&amp;f=console.png\">\\n    <script src=\"?__debugger__=yes&amp;cmd=resource&amp;f=jquery.js\"></script>\\n    <script src=\"?__debugger__=yes&amp;cmd=resource&amp;f=debugger.js\"></script>\\n    <script type=\"text/javascript\">\\n      var TRACEBACK = 140431094707536,\\n          CONSOLE_MODE = false,\\n          EVALEX = true,\\n          EVALEX_TRUSTED = false,\\n          SECRET = \"cBI78i7Uh77PYYzIfMAt\";\\n    </script>\\n  </head>\\n  <body style=\"background-color: #fff\">\\n    <div class=\"debugger\">\\n<h1>NameError</h1>\\n<div class=\"detail\">\\n  <p class=\"errormsg\">NameError: global name \\'request\\' is not defined</p>\\n</div>\\n<h2 class=\"traceback\">Traceback <em>(most recent call last)</em></h2>\\n<div class=\"traceback\">\\n  \\n  <ul><li><div class=\"frame\" id=\"frame-140431094707664\">\\n  <h4>File <cite class=\"filename\">\"/app/.local/lib/python2.7/site-packages/flask/app.py\"</cite>,\\n      line <em class=\"line\">2463</em>,\\n      in <code class=\"function\">__call__</code></h4>\\n  <div class=\"source \"><pre class=\"line before\"><span class=\"ws\"></span> </pre>\\n<pre class=\"line before\"><span class=\"ws\">    </span>def __call__(self, environ, start_response):</pre>\\n<pre class=\"line before\"><span class=\"ws\">        </span>&quot;&quot;&quot;The WSGI server calls the Flask application object as the</pre>\\n<pre class=\"line before\"><span class=\"ws\">        </span>WSGI application. This calls :meth:`wsgi_app` which can be</pre>\\n<pre class=\"line before\"><span class=\"ws\">        </span>wrapped to applying middleware.&quot;&quot;&quot;</pre>\\n<pre class=\"line current\"><span class=\"ws\">        </span>return self.wsgi_app(environ, start_response)</pre>\\n<pre class=\"line after\"><span class=\"ws\"></span> </pre>\\n<pre class=\"line after\"><span class=\"ws\">    </span>def __repr__(self):</pre>\\n<pre class=\"line after\"><span class=\"ws\">        </span>return &quot;&lt;%s %r&gt;&quot; % (self.__class__.__name__, self.name)</pre></div>\\n</div>\\n\\n<li><div class=\"frame\" id=\"frame-140431094707920\">\\n  <h4>File <cite class=\"filename\">\"/app/.local/lib/python2.7/site-packages/flask/app.py\"</cite>,\\n      line <em class=\"line\">2449</em>,\\n      in <code class=\"function\">wsgi_app</code></h4>\\n  <div class=\"source \"><pre class=\"line before\"><span class=\"ws\">            </span>try:</pre>\\n<pre class=\"line before\"><span class=\"ws\">                </span>ctx.push()</pre>\\n<pre class=\"line before\"><span class=\"ws\">                </span>response = self.full_dispatch_request()</pre>\\n<pre class=\"line before\"><span class=\"ws\">            </span>except Exception as e:</pre>\\n<pre class=\"line before\"><span class=\"ws\">                </span>error = e</pre>\\n<pre class=\"line current\"><span class=\"ws\">                </span>response = self.handle_exception(e)</pre>\\n<pre class=\"line after\"><span class=\"ws\">            </span>except:  # noqa: B001</pre>\\n<pre class=\"line after\"><span class=\"ws\">                </span>error = sys.exc_info()[1]</pre>\\n<pre class=\"line after\"><span class=\"ws\">                </span>raise</pre>\\n<pre class=\"line after\"><span class=\"ws\">            </span>return response(environ, start_response)</pre>\\n<pre class=\"line after\"><span class=\"ws\">        </span>finally:</pre></div>\\n</div>\\n\\n<li><div class=\"frame\" id=\"frame-140431094707984\">\\n  <h4>File <cite class=\"filename\">\"/app/.local/lib/python2.7/site-packages/flask/app.py\"</cite>,\\n      line <em class=\"line\">1866</em>,\\n      in <code class=\"function\">handle_exception</code></h4>\\n  <div class=\"source \"><pre class=\"line before\"><span class=\"ws\">            </span># if we want to repropagate the exception, we can attempt to</pre>\\n<pre class=\"line before\"><span class=\"ws\">            </span># raise it with the whole traceback in case we can do that</pre>\\n<pre class=\"line before\"><span class=\"ws\">            </span># (the function was actually called from the except part)</pre>\\n<pre class=\"line before\"><span class=\"ws\">            </span># otherwise, we just raise the error again</pre>\\n<pre class=\"line before\"><span class=\"ws\">            </span>if exc_value is e:</pre>\\n<pre class=\"line current\"><span class=\"ws\">                </span>reraise(exc_type, exc_value, tb)</pre>\\n<pre class=\"line after\"><span class=\"ws\">            </span>else:</pre>\\n<pre class=\"line after\"><span class=\"ws\">                </span>raise e</pre>\\n<pre class=\"line after\"><span class=\"ws\"></span> </pre>\\n<pre class=\"line after\"><span class=\"ws\">        </span>self.log_exception((exc_type, exc_value, tb))</pre>\\n<pre class=\"line after\"><span class=\"ws\">        </span>server_error = InternalServerError()</pre></div>\\n</div>\\n\\n<li><div class=\"frame\" id=\"frame-140431094708048\">\\n  <h4>File <cite class=\"filename\">\"/app/.local/lib/python2.7/site-packages/flask/app.py\"</cite>,\\n      line <em class=\"line\">2446</em>,\\n      in <code class=\"function\">wsgi_app</code></h4>\\n  <div class=\"source \"><pre class=\"line before\"><span class=\"ws\">        </span>ctx = self.request_context(environ)</pre>\\n<pre class=\"line before\"><span class=\"ws\">        </span>error = None</pre>\\n<pre class=\"line before\"><span class=\"ws\">        </span>try:</pre>\\n<pre class=\"line before\"><span class=\"ws\">            </span>try:</pre>\\n<pre class=\"line before\"><span class=\"ws\">                </span>ctx.push()</pre>\\n<pre class=\"line current\"><span class=\"ws\">                </span>response = self.full_dispatch_request()</pre>\\n<pre class=\"line after\"><span class=\"ws\">            </span>except Exception as e:</pre>\\n<pre class=\"line after\"><span class=\"ws\">                </span>error = e</pre>\\n<pre class=\"line after\"><span class=\"ws\">                </span>response = self.handle_exception(e)</pre>\\n<pre class=\"line after\"><span class=\"ws\">            </span>except:  # noqa: B001</pre>\\n<pre class=\"line after\"><span class=\"ws\">                </span>error = sys.exc_info()[1]</pre></div>\\n</div>\\n\\n<li><div class=\"frame\" id=\"frame-140431094708112\">\\n  <h4>File <cite class=\"filename\">\"/app/.local/lib/python2.7/site-packages/flask/app.py\"</cite>,\\n      line <em class=\"line\">1951</em>,\\n      in <code class=\"function\">full_dispatch_request</code></h4>\\n  <div class=\"source \"><pre class=\"line before\"><span class=\"ws\">            </span>request_started.send(self)</pre>\\n<pre class=\"line before\"><span class=\"ws\">            </span>rv = self.preprocess_request()</pre>\\n<pre class=\"line before\"><span class=\"ws\">            </span>if rv is None:</pre>\\n<pre class=\"line before\"><span class=\"ws\">                </span>rv = self.dispatch_request()</pre>\\n<pre class=\"line before\"><span class=\"ws\">        </span>except Exception as e:</pre>\\n<pre class=\"line current\"><span class=\"ws\">            </span>rv = self.handle_user_exception(e)</pre>\\n<pre class=\"line after\"><span class=\"ws\">        </span>return self.finalize_request(rv)</pre>\\n<pre class=\"line after\"><span class=\"ws\"></span> </pre>\\n<pre class=\"line after\"><span class=\"ws\">    </span>def finalize_request(self, rv, from_error_handler=False):</pre>\\n<pre class=\"line after\"><span class=\"ws\">        </span>&quot;&quot;&quot;Given the return value from a view function this finalizes</pre>\\n<pre class=\"line after\"><span class=\"ws\">        </span>the request by converting it into a response and invoking the</pre></div>\\n</div>\\n\\n<li><div class=\"frame\" id=\"frame-140431094708176\">\\n  <h4>File <cite class=\"filename\">\"/app/.local/lib/python2.7/site-packages/flask/app.py\"</cite>,\\n      line <em class=\"line\">1820</em>,\\n      in <code class=\"function\">handle_user_exception</code></h4>\\n  <div class=\"source \"><pre class=\"line before\"><span class=\"ws\">            </span>return self.handle_http_exception(e)</pre>\\n<pre class=\"line before\"><span class=\"ws\"></span> </pre>\\n<pre class=\"line before\"><span class=\"ws\">        </span>handler = self._find_error_handler(e)</pre>\\n<pre class=\"line before\"><span class=\"ws\"></span> </pre>\\n<pre class=\"line before\"><span class=\"ws\">        </span>if handler is None:</pre>\\n<pre class=\"line current\"><span class=\"ws\">            </span>reraise(exc_type, exc_value, tb)</pre>\\n<pre class=\"line after\"><span class=\"ws\">        </span>return handler(e)</pre>\\n<pre class=\"line after\"><span class=\"ws\"></span> </pre>\\n<pre class=\"line after\"><span class=\"ws\">    </span>def handle_exception(self, e):</pre>\\n<pre class=\"line after\"><span class=\"ws\">        </span>&quot;&quot;&quot;Handle an exception that did not have an error handler</pre>\\n<pre class=\"line after\"><span class=\"ws\">        </span>associated with it, or that was raised from an error handler.</pre></div>\\n</div>\\n\\n<li><div class=\"frame\" id=\"frame-140431094708240\">\\n  <h4>File <cite class=\"filename\">\"/app/.local/lib/python2.7/site-packages/flask/app.py\"</cite>,\\n      line <em class=\"line\">1949</em>,\\n      in <code class=\"function\">full_dispatch_request</code></h4>\\n  <div class=\"source \"><pre class=\"line before\"><span class=\"ws\">        </span>self.try_trigger_before_first_request_functions()</pre>\\n<pre class=\"line before\"><span class=\"ws\">        </span>try:</pre>\\n<pre class=\"line before\"><span class=\"ws\">            </span>request_started.send(self)</pre>\\n<pre class=\"line before\"><span class=\"ws\">            </span>rv = self.preprocess_request()</pre>\\n<pre class=\"line before\"><span class=\"ws\">            </span>if rv is None:</pre>\\n<pre class=\"line current\"><span class=\"ws\">                </span>rv = self.dispatch_request()</pre>\\n<pre class=\"line after\"><span class=\"ws\">        </span>except Exception as e:</pre>\\n<pre class=\"line after\"><span class=\"ws\">            </span>rv = self.handle_user_exception(e)</pre>\\n<pre class=\"line after\"><span class=\"ws\">        </span>return self.finalize_request(rv)</pre>\\n<pre class=\"line after\"><span class=\"ws\"></span> </pre>\\n<pre class=\"line after\"><span class=\"ws\">    </span>def finalize_request(self, rv, from_error_handler=False):</pre></div>\\n</div>\\n\\n<li><div class=\"frame\" id=\"frame-140431094708304\">\\n  <h4>File <cite class=\"filename\">\"/app/.local/lib/python2.7/site-packages/flask/app.py\"</cite>,\\n      line <em class=\"line\">1935</em>,\\n      in <code class=\"function\">dispatch_request</code></h4>\\n  <div class=\"source \"><pre class=\"line before\"><span class=\"ws\">            </span>getattr(rule, &quot;provide_automatic_options&quot;, False)</pre>\\n<pre class=\"line before\"><span class=\"ws\">            </span>and req.method == &quot;OPTIONS&quot;</pre>\\n<pre class=\"line before\"><span class=\"ws\">        </span>):</pre>\\n<pre class=\"line before\"><span class=\"ws\">            </span>return self.make_default_options_response()</pre>\\n<pre class=\"line before\"><span class=\"ws\">        </span># otherwise dispatch to the handler for that endpoint</pre>\\n<pre class=\"line current\"><span class=\"ws\">        </span>return self.view_functions[rule.endpoint](**req.view_args)</pre>\\n<pre class=\"line after\"><span class=\"ws\"></span> </pre>\\n<pre class=\"line after\"><span class=\"ws\">    </span>def full_dispatch_request(self):</pre>\\n<pre class=\"line after\"><span class=\"ws\">        </span>&quot;&quot;&quot;Dispatches the request and on top of that performs request</pre>\\n<pre class=\"line after\"><span class=\"ws\">        </span>pre and postprocessing as well as HTTP exception catching and</pre>\\n<pre class=\"line after\"><span class=\"ws\">        </span>error handling.</pre></div>\\n</div>\\n\\n<li><div class=\"frame\" id=\"frame-140431094708368\">\\n  <h4>File <cite class=\"filename\">\"/app/app.py\"</cite>,\\n      line <em class=\"line\">52</em>,\\n      in <code class=\"function\">message</code></h4>\\n  <div class=\"source \"><pre class=\"line before\"><span class=\"ws\"></span> </pre>\\n<pre class=\"line before\"><span class=\"ws\"></span> </pre>\\n<pre class=\"line before\"><span class=\"ws\"></span> </pre>\\n<pre class=\"line before\"><span class=\"ws\"></span>@app.route(&quot;/message&quot;, methods=[&quot;GET&quot;])</pre>\\n<pre class=\"line before\"><span class=\"ws\"></span>def message():</pre>\\n<pre class=\"line current\"><span class=\"ws\">    </span>posted_data = request.get_json()</pre>\\n<pre class=\"line after\"><span class=\"ws\">    </span>name = posted_data[\\'name\\']</pre>\\n<pre class=\"line after\"><span class=\"ws\">    </span>return jsonify(&quot; Hope you are having a good time &quot; + name + &quot;!!!&quot;)</pre>\\n<pre class=\"line after\"><span class=\"ws\"></span> </pre>\\n<pre class=\"line after\"><span class=\"ws\"></span>if __name__ == \\'__main__\\':</pre>\\n<pre class=\"line after\"><span class=\"ws\">    </span>app.run(debug=True, port=5000)</pre></div>\\n</div>\\n</ul>\\n  <blockquote>NameError: global name \\'request\\' is not defined</blockquote>\\n</div>\\n\\n<div class=\"plain\">\\n  <form action=\"/?__debugger__=yes&amp;cmd=paste\" method=\"post\">\\n    <p>\\n      <input type=\"hidden\" name=\"language\" value=\"pytb\">\\n      This is the Copy/Paste friendly version of the traceback.  <span\\n      class=\"pastemessage\">You can also paste this traceback into\\n      a <a href=\"https://gist.github.com/\">gist</a>:\\n      <input type=\"submit\" value=\"create paste\"></span>\\n    </p>\\n    <textarea cols=\"50\" rows=\"10\" name=\"code\" readonly>Traceback (most recent call last):\\n  File &quot;/app/.local/lib/python2.7/site-packages/flask/app.py&quot;, line 2463, in __call__\\n    return self.wsgi_app(environ, start_response)\\n  File &quot;/app/.local/lib/python2.7/site-packages/flask/app.py&quot;, line 2449, in wsgi_app\\n    response = self.handle_exception(e)\\n  File &quot;/app/.local/lib/python2.7/site-packages/flask/app.py&quot;, line 1866, in handle_exception\\n    reraise(exc_type, exc_value, tb)\\n  File &quot;/app/.local/lib/python2.7/site-packages/flask/app.py&quot;, line 2446, in wsgi_app\\n    response = self.full_dispatch_request()\\n  File &quot;/app/.local/lib/python2.7/site-packages/flask/app.py&quot;, line 1951, in full_dispatch_request\\n    rv = self.handle_user_exception(e)\\n  File &quot;/app/.local/lib/python2.7/site-packages/flask/app.py&quot;, line 1820, in handle_user_exception\\n    reraise(exc_type, exc_value, tb)\\n  File &quot;/app/.local/lib/python2.7/site-packages/flask/app.py&quot;, line 1949, in full_dispatch_request\\n    rv = self.dispatch_request()\\n  File &quot;/app/.local/lib/python2.7/site-packages/flask/app.py&quot;, line 1935, in dispatch_request\\n    return self.view_functions[rule.endpoint](**req.view_args)\\n  File &quot;/app/app.py&quot;, line 52, in message\\n    posted_data = request.get_json()\\nNameError: global name \\'request\\' is not defined</textarea>\\n  </form>\\n</div>\\n<div class=\"explanation\">\\n  The debugger caught an exception in your WSGI application.  You can now\\n  look at the traceback which led to the error.  <span class=\"nojavascript\">\\n  If you enable JavaScript you can also use additional features such as code\\n  execution (if the evalex feature is enabled), automatic pasting of the\\n  exceptions and much more.</span>\\n</div>\\n      <div class=\"footer\">\\n        Brought to you by <strong class=\"arthur\">DON\\'T PANIC</strong>, your\\n        friendly Werkzeug powered traceback interpreter.\\n      </div>\\n    </div>\\n\\n    <div class=\"pin-prompt\">\\n      <div class=\"inner\">\\n        <h3>Console Locked</h3>\\n        <p>\\n          The console is locked and needs to be unlocked by entering the PIN.\\n          You can find the PIN printed out on the standard output of your\\n          shell that runs the server.\\n        <form>\\n          <p>PIN:\\n            <input type=text name=pin size=14>\\n            <input type=submit name=btn value=\"Confirm Pin\">\\n        </form>\\n      </div>\\n    </div>\\n  </body>\\n</html>\\n\\n<!--\\n\\nTraceback (most recent call last):\\n  File \"/app/.local/lib/python2.7/site-packages/flask/app.py\", line 2463, in __call__\\n    return self.wsgi_app(environ, start_response)\\n  File \"/app/.local/lib/python2.7/site-packages/flask/app.py\", line 2449, in wsgi_app\\n    response = self.handle_exception(e)\\n  File \"/app/.local/lib/python2.7/site-packages/flask/app.py\", line 1866, in handle_exception\\n    reraise(exc_type, exc_value, tb)\\n  File \"/app/.local/lib/python2.7/site-packages/flask/app.py\", line 2446, in wsgi_app\\n    response = self.full_dispatch_request()\\n  File \"/app/.local/lib/python2.7/site-packages/flask/app.py\", line 1951, in full_dispatch_request\\n    rv = self.handle_user_exception(e)\\n  File \"/app/.local/lib/python2.7/site-packages/flask/app.py\", line 1820, in handle_user_exception\\n    reraise(exc_type, exc_value, tb)\\n  File \"/app/.local/lib/python2.7/site-packages/flask/app.py\", line 1949, in full_dispatch_request\\n    rv = self.dispatch_request()\\n  File \"/app/.local/lib/python2.7/site-packages/flask/app.py\", line 1935, in dispatch_request\\n    return self.view_functions[rule.endpoint](**req.view_args)\\n  File \"/app/app.py\", line 52, in message\\n    posted_data = request.get_json()\\nNameError: global name \\'request\\' is not defined\\n\\n-->\\n'\n"
          ],
          "name": "stdout"
        }
      ]
    }
  ]
}